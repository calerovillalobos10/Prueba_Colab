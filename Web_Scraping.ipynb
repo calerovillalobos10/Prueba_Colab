{
  "nbformat": 4,
  "nbformat_minor": 0,
  "metadata": {
    "colab": {
      "provenance": [],
      "authorship_tag": "ABX9TyNb3Tj0WRb75CysaM4CtW8y",
      "include_colab_link": true
    },
    "kernelspec": {
      "name": "python3",
      "display_name": "Python 3"
    },
    "language_info": {
      "name": "python"
    }
  },
  "cells": [
    {
      "cell_type": "markdown",
      "metadata": {
        "id": "view-in-github",
        "colab_type": "text"
      },
      "source": [
        "<a href=\"https://colab.research.google.com/github/calerovillalobos10/Prueba_Colab/blob/main/Web_Scraping.ipynb\" target=\"_parent\"><img src=\"https://colab.research.google.com/assets/colab-badge.svg\" alt=\"Open In Colab\"/></a>"
      ]
    },
    {
      "cell_type": "markdown",
      "source": [
        "# Iniciando investigación de Google Colab y Web Scraping con Python\n",
        "## ¿Qué es una Notebook en Google Colab?\n",
        "Permite combinar la ejecución de código y texto enriquecido en un mismo documento. Son cuadernos de Jupyter alojados en Colab.\n",
        "### Características de una Notebook de Google Colab\n",
        "\n",
        "*   Crear y compartir documentos que tienen código ejecutable\n",
        "*   No requiere instalación\n",
        "*   Acceso gratuito a GPUS y TPUs\n",
        "*   Control de versines\n",
        "*   Colaboración entre usuarios en un mismo notebook\n",
        "*   Importación o publicación directa en o desde github\n",
        "*   Integración con PyTorch, Tendor Flow, Oepn CV\n",
        "\n",
        "### Ventasjas de usar Google Colab para proyectos de ciencia de datos\n",
        "\n",
        "*   Cuenta con bibliotecas de data science preinstaladas\n",
        "*   Permite compartir documentos y colaborar de manera mucho más sencilla.\n",
        "*   Puede trabajar con datos que provienen de diversas fuentes\n",
        "*   Permite cargar datos desde cualquier ordenador\n",
        "*   Proporciona una interfaz y acceso a aceleradores de hardware de ordenador\n",
        "\n",
        "\n",
        "\n",
        "\n",
        "\n",
        "\n",
        "\n",
        "\n",
        "\n",
        "\n",
        "\n"
      ],
      "metadata": {
        "id": "6wzize81WILR"
      }
    },
    {
      "cell_type": "code",
      "source": [
        "!python --version"
      ],
      "metadata": {
        "colab": {
          "base_uri": "https://localhost:8080/"
        },
        "id": "SOyY6uTgd7NV",
        "outputId": "af4a42aa-5736-4c49-dee6-e6383f695c91"
      },
      "execution_count": 2,
      "outputs": [
        {
          "output_type": "stream",
          "name": "stdout",
          "text": [
            "Python 3.10.12\n"
          ]
        }
      ]
    },
    {
      "cell_type": "code",
      "source": [
        "print(\"Hola Mundo\")"
      ],
      "metadata": {
        "colab": {
          "base_uri": "https://localhost:8080/"
        },
        "id": "m6t88CAibIdY",
        "outputId": "21eaca92-e492-4bbf-c284-dea53eca6b9a"
      },
      "execution_count": 1,
      "outputs": [
        {
          "output_type": "stream",
          "name": "stdout",
          "text": [
            "Hola Mundo\n"
          ]
        }
      ]
    }
  ]
}